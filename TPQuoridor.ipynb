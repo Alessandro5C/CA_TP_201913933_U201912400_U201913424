{
  "nbformat": 4,
  "nbformat_minor": 0,
  "metadata": {
    "colab": {
      "name": "TPQuoridor.ipynb",
      "provenance": [],
      "collapsed_sections": [],
      "include_colab_link": true
    },
    "kernelspec": {
      "name": "python3",
      "display_name": "Python 3"
    }
  },
  "cells": [
    {
      "cell_type": "markdown",
      "metadata": {
        "id": "view-in-github",
        "colab_type": "text"
      },
      "source": [
        "<a href=\"https://colab.research.google.com/github/Alessandro5C/CA_TP_201913933_U201912400_U201913424/blob/master/TPQuoridor.ipynb\" target=\"_parent\"><img src=\"https://colab.research.google.com/assets/colab-badge.svg\" alt=\"Open In Colab\"/></a>"
      ]
    },
    {
      "cell_type": "markdown",
      "metadata": {
        "id": "5qrVyW_2JKPM",
        "colab_type": "text"
      },
      "source": [
        "#__Quoridor__\n",
        "\n",
        "####Integrantes:\n",
        "* Carhuancho Bazán Alessandro \n",
        ">U201913933\n",
        "* Ingaroca Torres Andreluis\n",
        ">U201913424\n",
        "* Cruz Mamani Jack\n",
        ">U201912400"
      ]
    },
    {
      "cell_type": "markdown",
      "metadata": {
        "id": "Cdcveqo-Igf0",
        "colab_type": "text"
      },
      "source": [
        "#__Introducción__\n",
        "\n",
        "Nuestro equipo de trabajo está en busca de una solución para el desarrollo del juego de Quoridor, basado en un enfoque de optimización de recursos, tanto en tiempo como espacio de memoria.\n",
        "\n",
        "Este trabajo es fundamental para aplicar lo desarrollado en el curso de complejidad algorítmica. Como también, es base fundamental para una solución basada en Inteligencia Artificial.\n",
        "\n",
        "Nuestra inspiración basa en analizar la complejidad y coste computacional de algoritmos para un eficiente desarrollo de software, proyectandonos en una visión a nuevas tecnologias, en lugar de una simple rutina de proceso.\n",
        "\n",
        "##__Objetivos__\n",
        "   \n",
        "*   __En Ingeniería de Software, el logro contribuye a alcanzar el: ABET – EAC - Student Outcome 4:__ La capacidad de reconocer responsabilidades éticas y profesionales en situaciones de ingeniería y hacer juicios informados, que deben considerar el impacto de las soluciones de ingeniería en contextos globales, económicos, ambientales y sociales.\n",
        "\n",
        "*   __En Ciencias de la Computación, el logro contribuye a alcanzar el: ABET – CAC - Student Outcome 4:__ Reconocer las responsabilidades profesionales y tomar decisiones informadas sobre prácticas de computación basadas en principios legales y éticos.\n",
        "\n",
        "##__Descripción del problema__\n",
        "\n",
        "El Quoridor es un juego abstracto de estrategia donde pueden participar dos a cuatro personas, que sera desarrollado basado en los conocimientos adquiridos durante el ciclo en el curso mencionado en el lenguaje de programación de Python."
      ]
    },
    {
      "cell_type": "markdown",
      "metadata": {
        "id": "UqhlKvrPIoPh",
        "colab_type": "text"
      },
      "source": [
        "#__Estado del arte__\n",
        "\n",
        "Los algoritmos que se usarán en el presente proyecto:\n",
        "* Breadth First Search: Encuentra un árbol de expansión. Comienza de un vertice dado y explora todos los vertices vecinos antes de pasar a los siguientes vertice.\n",
        "* Depth First Search: Encuentra un árbol de expansión en base a un vertice dado. Explora de forma recursiva cada nodo hasta llegar a un vertices que ya ha visitado o una hoja.\n",
        "* Print Path: Devuelve el camino más corto entre dos vertices, si es que este existe."
      ]
    },
    {
      "cell_type": "markdown",
      "metadata": {
        "id": "sSngnkg5I6Vv",
        "colab_type": "text"
      },
      "source": [
        "#__Metodología__\n",
        "\n",
        "Para representar la conexión entre los diferentes vertices, usaremos listas de adyacencia. Una lista de adyacencia ocupa mucho espacio en memoria en este caso debido a que\n",
        "\n",
        ">$\\Complejidad\\Espacial$\n",
        "\n",
        ">Lista de adyacencia ->\n",
        "$O(V+E) = O(max(V, E))$\n",
        "\n",
        ">Matriz de adyacencia ->\n",
        "$O(V^2)$\n",
        "\n",
        ">Para un tablero $N*N$, existen $V=N^2$ y $E=2N(N-1)$\n",
        ">>Reemplazando\n",
        ">>> $O(N^2+2N(N-1))<O((N^2)^2)$\n",
        "\n",
        ">>> $O(N^2)<O(N^4)$\n",
        "\n",
        "Para representar el tablero, tenemos 2 opciones:\n",
        "\n",
        "* Usaremos nodos que representen los espacios donde el jugador puede estar, además,de aristas que representaran si dicho movimiento es válido.\n",
        "\n",
        "![image.png](data:image/png;base64,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)\n",
        "\n",
        "* Otra forma de representar seria a través de una matriz que represente mediante simbolos, las barreras y los espacios donde el jugador puede colocarse.\n",
        "\n",
        "![image.png](data:image/png;base64,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)\n",
        "\n",
        "\n",
        "Para definir cual representación usar, se evaluará el comportamiento de dichas representaciones en tableros jugables de tamaño NxN donde N sea una potencia de 10 menos 1. El limite de tamaño con el que evaluaremos 10^3-1."
      ]
    }
  ]
}