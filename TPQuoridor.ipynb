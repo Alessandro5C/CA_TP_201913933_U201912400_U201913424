{
  "nbformat": 4,
  "nbformat_minor": 0,
  "metadata": {
    "colab": {
      "name": "TPQuoridor.ipynb",
      "provenance": [],
      "collapsed_sections": [],
      "include_colab_link": true
    },
    "kernelspec": {
      "name": "python3",
      "display_name": "Python 3"
    }
  },
  "cells": [
    {
      "cell_type": "markdown",
      "metadata": {
        "id": "view-in-github",
        "colab_type": "text"
      },
      "source": [
        "<a href=\"https://colab.research.google.com/github/Alessandro5C/CA_TP_201913933_U201912400_U201913424/blob/master/TPQuoridor.ipynb\" target=\"_parent\"><img src=\"https://colab.research.google.com/assets/colab-badge.svg\" alt=\"Open In Colab\"/></a>"
      ]
    },
    {
      "cell_type": "markdown",
      "metadata": {
        "id": "5qrVyW_2JKPM",
        "colab_type": "text"
      },
      "source": [
        "#__Quoridor__\n",
        "\n",
        "####Integrantes:\n",
        "* Carhuancho Bazán Alessandro \n",
        ">U201913933\n",
        "* Ingaroca Torres Andreluis\n",
        ">U201913424\n",
        "* Cruz Mamani Jack\n",
        ">U201912400"
      ]
    },
    {
      "cell_type": "markdown",
      "metadata": {
        "id": "Cdcveqo-Igf0",
        "colab_type": "text"
      },
      "source": [
        "#__Introducción__\n",
        "\n",
        "Nuestro equipo de trabajo está en busca de una solución para el desarrollo del juego de Quoridor, basado en un enfoque de optimización de recursos, tanto en tiempo como espacio de memoria.\n",
        "\n",
        "Este trabajo es fundamental para aplicar lo desarrollado en el curso de complejidad algorítmica. Como también, es base fundamental para una solución basada en Inteligencia Artificial.\n",
        "\n",
        "Nuestra inspiración basa en analizar la complejidad y coste computacional de algoritmos para un eficiente desarrollo de software, proyectandonos en una visión a nuevas tecnologias, en lugar de una simple rutina de proceso.\n",
        "\n",
        "##__Objetivos__\n",
        "\n",
        "###__Del estudiante:__\n",
        "   \n",
        "*   __En Ingeniería de Software, el logro contribuye a alcanzar el: ABET – EAC - Student Outcome 4:__ La capacidad de reconocer responsabilidades éticas y profesionales en situaciones de ingeniería y hacer juicios informados, que deben considerar el impacto de las soluciones de ingeniería en contextos globales, económicos, ambientales y sociales.\n",
        "\n",
        "*   __En Ciencias de la Computación, el logro contribuye a alcanzar el: ABET – CAC - Student Outcome 4:__ Reconocer las responsabilidades profesionales y tomar decisiones informadas sobre prácticas de computación basadas en principios legales y éticos.\n",
        "\n",
        "###__Del trabajo:__\n",
        "El presente trabajo tiene como objetivos:\n",
        "\n",
        "*   Demostrar los conocimientos adquiridos dentro del curso y complementarlos a través de la investigación.\n",
        "\n",
        "*   Analizar la complejidad de diferentes algoritmos y evaluar el consumo en espacio y en tiempo de dichos algoritmos.\n",
        "\n",
        "*   Fortalecer las habilidades blandas, mejorando la comunicación y capacidad de trabajo en equipo de cada integrante del grupo.\n",
        "\n",
        "##__Descripción del problema__\n",
        "\n",
        "El Quoridor es un juego abstracto de estrategia donde pueden participar dos a cuatro personas, que sera desarrollado basado en los conocimientos adquiridos durante el ciclo en el curso mencionado en el lenguaje de programación de Python. En el presente trabajo se escalará el tamaño del tablero para que se pueda evaluar el coste computacional siguiendo las mismas reglas del juego original."
      ]
    },
    {
      "cell_type": "markdown",
      "metadata": {
        "id": "UqhlKvrPIoPh",
        "colab_type": "text"
      },
      "source": [
        "#__Estado del arte__\n",
        "\n",
        "Los algoritmos que se usarán en el presente proyecto:\n",
        "* Breadth First Search: Encuentra un árbol de expansión. Comienza de un vertice dado y explora todos los vertices vecinos antes de pasar a los siguientes vertice.\n",
        "* Depth First Search: Encuentra un árbol de expansión en base a un vertice dado. Explora de forma recursiva cada nodo hasta llegar a un vertices que ya ha visitado o una hoja.\n",
        "* Print Path: Devuelve el camino más corto entre dos vertices, si es que este existe."
      ]
    },
    {
      "cell_type": "markdown",
      "metadata": {
        "id": "sSngnkg5I6Vv",
        "colab_type": "text"
      },
      "source": [
        "#__Metodología__\n",
        "\n",
        "Para representar la conexión entre los diferentes vertices, usaremos listas de adyacencia. Una lista de adyacencia ocupa mucho espacio en memoria en este caso debido a que\n",
        "\n",
        ">$\\Complejidad\\Espacial$\n",
        "\n",
        ">Lista de adyacencia ->\n",
        "$O(V+E) = O(max(V, E))$\n",
        "\n",
        ">Matriz de adyacencia ->\n",
        "$O(V^2)$\n",
        "\n",
        ">Para un tablero $N*N$, existen $V=N^2$ y $E=2N(N-1)$\n",
        ">>Reemplazando\n",
        ">>> $O(N^2+2N(N-1))<O((N^2)^2)$\n",
        "\n",
        ">>> $O(N^2)<O(N^4)$\n",
        "\n",
        "Para representar el tablero, tenemos 2 opciones:\n",
        "\n",
        "* Usaremos nodos que representen los espacios donde el jugador puede estar, además,de aristas que representaran si dicho movimiento es válido.\n",
        "\n",
        "![image.png](data:image/png;base64,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)\n",
        "\n",
        "* Otra forma de representar seria a través de una matriz que represente mediante simbolos, las barreras y los espacios donde el jugador puede colocarse.\n",
        "\n",
        "![image.png](data:image/png;base64,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)\n",
        "\n",
        "Para definir cual representación usar, se evaluará el comportamiento de dichas representaciones en tableros jugables de tamaño NxN donde N sea una potencia de 10 menos 1. El limite de tamaño con el que evaluaremos 10^3-1."
      ]
    }
  ]
}